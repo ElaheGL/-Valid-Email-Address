{
  "nbformat": 4,
  "nbformat_minor": 0,
  "metadata": {
    "colab": {
      "provenance": []
    },
    "kernelspec": {
      "name": "python3",
      "display_name": "Python 3"
    },
    "language_info": {
      "name": "python"
    }
  },
  "cells": [
    {
      "cell_type": "code",
      "execution_count": 20,
      "metadata": {
        "colab": {
          "base_uri": "https://localhost:8080/"
        },
        "id": "cXeTdUh-lIgo",
        "outputId": "8394743a-732b-4769-9efe-df5be98f680b"
      },
      "outputs": [
        {
          "output_type": "stream",
          "name": "stdout",
          "text": [
            "please enter your email:khvlhsiohvb\n",
            "wrong\n"
          ]
        }
      ],
      "source": [
        "import re\n",
        "email = input(\"please enter your email:\")\n",
        "pattern=(r'^\\w+@\\w+\\.\\w+$')\n",
        "print(\"OK\" if re.match(pattern,email) else \"wrong\")\n"
      ]
    }
  ]
}